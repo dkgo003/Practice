{
 "cells": [
  {
   "cell_type": "code",
   "execution_count": 1,
   "metadata": {},
   "outputs": [],
   "source": [
    "### 필요한 라이브러리 임폴트\n",
    "import pandas as pd\n",
    "import numpy as np\n",
    "import matplotlib.pyplot as plt\n",
    "import seaborn as sns"
   ]
  },
  {
   "cell_type": "code",
   "execution_count": 5,
   "metadata": {},
   "outputs": [],
   "source": [
    "# 파일 경로 설정\n",
    "file_path = r'c:\\Users\\smjmj\\Programing\\Practice\\202303\\2023-03-01.csv'"
   ]
  },
  {
   "cell_type": "code",
   "execution_count": 60,
   "metadata": {},
   "outputs": [
    {
     "data": {
      "text/html": [
       "<div>\n",
       "<style scoped>\n",
       "    .dataframe tbody tr th:only-of-type {\n",
       "        vertical-align: middle;\n",
       "    }\n",
       "\n",
       "    .dataframe tbody tr th {\n",
       "        vertical-align: top;\n",
       "    }\n",
       "\n",
       "    .dataframe thead th {\n",
       "        text-align: right;\n",
       "    }\n",
       "</style>\n",
       "<table border=\"1\" class=\"dataframe\">\n",
       "  <thead>\n",
       "    <tr style=\"text-align: right;\">\n",
       "      <th></th>\n",
       "      <th>collect_day</th>\n",
       "      <th>good_id</th>\n",
       "      <th>pum_id</th>\n",
       "      <th>pum_name</th>\n",
       "      <th>good_name</th>\n",
       "      <th>sales_price</th>\n",
       "      <th>discount_price</th>\n",
       "      <th>benefit</th>\n",
       "    </tr>\n",
       "  </thead>\n",
       "  <tbody>\n",
       "    <tr>\n",
       "      <th>0</th>\n",
       "      <td>2023-03-01</td>\n",
       "      <td>979243283</td>\n",
       "      <td>C012030</td>\n",
       "      <td>여자상의</td>\n",
       "      <td>[Jacquemus]브라운 La Maille Risoul 스웨터</td>\n",
       "      <td>628300</td>\n",
       "      <td>615130</td>\n",
       "      <td>-13170</td>\n",
       "    </tr>\n",
       "    <tr>\n",
       "      <th>1</th>\n",
       "      <td>2023-03-01</td>\n",
       "      <td>1954754257</td>\n",
       "      <td>C012030</td>\n",
       "      <td>여자상의</td>\n",
       "      <td>아치마스크베어 W후드티</td>\n",
       "      <td>49900</td>\n",
       "      <td>49900</td>\n",
       "      <td>0</td>\n",
       "    </tr>\n",
       "    <tr>\n",
       "      <th>2</th>\n",
       "      <td>2023-03-01</td>\n",
       "      <td>1720680774</td>\n",
       "      <td>C012030</td>\n",
       "      <td>여자상의</td>\n",
       "      <td>블루페페 메탈 밑단 망 후드 티셔츠 P211PSM0123</td>\n",
       "      <td>59700</td>\n",
       "      <td>59700</td>\n",
       "      <td>0</td>\n",
       "    </tr>\n",
       "    <tr>\n",
       "      <th>3</th>\n",
       "      <td>2023-03-01</td>\n",
       "      <td>314732236</td>\n",
       "      <td>C012030</td>\n",
       "      <td>여자상의</td>\n",
       "      <td>[66-110] 빅 레이스 맨투맨 빅사이즈 여성의류</td>\n",
       "      <td>39000</td>\n",
       "      <td>33150</td>\n",
       "      <td>-5850</td>\n",
       "    </tr>\n",
       "    <tr>\n",
       "      <th>4</th>\n",
       "      <td>2023-03-01</td>\n",
       "      <td>2010360584</td>\n",
       "      <td>C012030</td>\n",
       "      <td>여자상의</td>\n",
       "      <td>PACIFIC 프린팅 맨투맨</td>\n",
       "      <td>34930</td>\n",
       "      <td>34930</td>\n",
       "      <td>0</td>\n",
       "    </tr>\n",
       "    <tr>\n",
       "      <th>...</th>\n",
       "      <td>...</td>\n",
       "      <td>...</td>\n",
       "      <td>...</td>\n",
       "      <td>...</td>\n",
       "      <td>...</td>\n",
       "      <td>...</td>\n",
       "      <td>...</td>\n",
       "      <td>...</td>\n",
       "    </tr>\n",
       "    <tr>\n",
       "      <th>628904</th>\n",
       "      <td>2023-03-01</td>\n",
       "      <td>2098122909</td>\n",
       "      <td>C012050</td>\n",
       "      <td>여자하의</td>\n",
       "      <td>[롯데ON] 롱스커트 여성용 가을 겨울 스커트 우아한 슬리밍 대형 스윙 밝은 실크</td>\n",
       "      <td>50170</td>\n",
       "      <td>50170</td>\n",
       "      <td>0</td>\n",
       "    </tr>\n",
       "    <tr>\n",
       "      <th>628905</th>\n",
       "      <td>2023-03-01</td>\n",
       "      <td>2088585587</td>\n",
       "      <td>C013020</td>\n",
       "      <td>티셔츠</td>\n",
       "      <td>[롯데ON] 빅사이즈 여성 캐주얼 반팔 카라티셔츠 여름 스웨터</td>\n",
       "      <td>38000</td>\n",
       "      <td>38000</td>\n",
       "      <td>0</td>\n",
       "    </tr>\n",
       "    <tr>\n",
       "      <th>628906</th>\n",
       "      <td>2023-03-01</td>\n",
       "      <td>2087256239</td>\n",
       "      <td>C013020</td>\n",
       "      <td>티셔츠</td>\n",
       "      <td>[롯데ON] 라코스테 베이직 폴로 반팔티 네이비 여자 카라 티셔츠 피케티 PJ290...</td>\n",
       "      <td>51840</td>\n",
       "      <td>51840</td>\n",
       "      <td>0</td>\n",
       "    </tr>\n",
       "    <tr>\n",
       "      <th>628907</th>\n",
       "      <td>2023-03-01</td>\n",
       "      <td>801832737</td>\n",
       "      <td>C014020</td>\n",
       "      <td>유아복</td>\n",
       "      <td>[롯데ON] 키즈패딩 남아 여아 겨울 오리 다운 아동 미디</td>\n",
       "      <td>43500</td>\n",
       "      <td>43500</td>\n",
       "      <td>0</td>\n",
       "    </tr>\n",
       "    <tr>\n",
       "      <th>628908</th>\n",
       "      <td>2023-03-01</td>\n",
       "      <td>841197107</td>\n",
       "      <td>C014020</td>\n",
       "      <td>유아복</td>\n",
       "      <td>[롯데ON] [데이라인]여자아이 겨울 롱 패딩 코트 SH 25</td>\n",
       "      <td>28690</td>\n",
       "      <td>28690</td>\n",
       "      <td>0</td>\n",
       "    </tr>\n",
       "  </tbody>\n",
       "</table>\n",
       "<p>628909 rows × 8 columns</p>\n",
       "</div>"
      ],
      "text/plain": [
       "       collect_day     good_id   pum_id pum_name  \\\n",
       "0       2023-03-01   979243283  C012030     여자상의   \n",
       "1       2023-03-01  1954754257  C012030     여자상의   \n",
       "2       2023-03-01  1720680774  C012030     여자상의   \n",
       "3       2023-03-01   314732236  C012030     여자상의   \n",
       "4       2023-03-01  2010360584  C012030     여자상의   \n",
       "...            ...         ...      ...      ...   \n",
       "628904  2023-03-01  2098122909  C012050     여자하의   \n",
       "628905  2023-03-01  2088585587  C013020      티셔츠   \n",
       "628906  2023-03-01  2087256239  C013020      티셔츠   \n",
       "628907  2023-03-01   801832737  C014020      유아복   \n",
       "628908  2023-03-01   841197107  C014020      유아복   \n",
       "\n",
       "                                                good_name  sales_price  \\\n",
       "0                     [Jacquemus]브라운 La Maille Risoul 스웨터       628300   \n",
       "1                                            아치마스크베어 W후드티        49900   \n",
       "2                         블루페페 메탈 밑단 망 후드 티셔츠 P211PSM0123        59700   \n",
       "3                            [66-110] 빅 레이스 맨투맨 빅사이즈 여성의류        39000   \n",
       "4                                         PACIFIC 프린팅 맨투맨        34930   \n",
       "...                                                   ...          ...   \n",
       "628904      [롯데ON] 롱스커트 여성용 가을 겨울 스커트 우아한 슬리밍 대형 스윙 밝은 실크        50170   \n",
       "628905                 [롯데ON] 빅사이즈 여성 캐주얼 반팔 카라티셔츠 여름 스웨터        38000   \n",
       "628906  [롯데ON] 라코스테 베이직 폴로 반팔티 네이비 여자 카라 티셔츠 피케티 PJ290...        51840   \n",
       "628907                   [롯데ON] 키즈패딩 남아 여아 겨울 오리 다운 아동 미디        43500   \n",
       "628908                 [롯데ON] [데이라인]여자아이 겨울 롱 패딩 코트 SH 25        28690   \n",
       "\n",
       "        discount_price  benefit  \n",
       "0               615130   -13170  \n",
       "1                49900        0  \n",
       "2                59700        0  \n",
       "3                33150    -5850  \n",
       "4                34930        0  \n",
       "...                ...      ...  \n",
       "628904           50170        0  \n",
       "628905           38000        0  \n",
       "628906           51840        0  \n",
       "628907           43500        0  \n",
       "628908           28690        0  \n",
       "\n",
       "[628909 rows x 8 columns]"
      ]
     },
     "execution_count": 60,
     "metadata": {},
     "output_type": "execute_result"
    }
   ],
   "source": [
    "# 데이터프레임 생성\n",
    "df = pd.read_csv(file_path, encoding='cp949')\n",
    "df"
   ]
  },
  {
   "cell_type": "code",
   "execution_count": 8,
   "metadata": {},
   "outputs": [
    {
     "name": "stdout",
     "output_type": "stream",
     "text": [
      "<class 'pandas.core.frame.DataFrame'>\n",
      "RangeIndex: 628909 entries, 0 to 628908\n",
      "Data columns (total 8 columns):\n",
      " #   Column          Non-Null Count   Dtype \n",
      "---  ------          --------------   ----- \n",
      " 0   collect_day     628909 non-null  object\n",
      " 1   good_id         628909 non-null  int64 \n",
      " 2   pum_id          628909 non-null  object\n",
      " 3   pum_name        628909 non-null  object\n",
      " 4   good_name       628909 non-null  object\n",
      " 5   sales_price     628909 non-null  int64 \n",
      " 6   discount_price  628909 non-null  int64 \n",
      " 7   benefit         628909 non-null  int64 \n",
      "dtypes: int64(4), object(4)\n",
      "memory usage: 38.4+ MB\n"
     ]
    }
   ],
   "source": [
    "# 기본 정보 확인\n",
    "df.info()"
   ]
  },
  {
   "cell_type": "code",
   "execution_count": 15,
   "metadata": {},
   "outputs": [
    {
     "name": "stdout",
     "output_type": "stream",
     "text": [
      "collect_day\n",
      "2023-03-01    628909\n",
      "dtype: int64\n"
     ]
    }
   ],
   "source": [
    "# 분석할만한 컬럼들 추출\n",
    "print(df.value_counts('collect_day'))"
   ]
  },
  {
   "cell_type": "code",
   "execution_count": 14,
   "metadata": {},
   "outputs": [
    {
     "name": "stdout",
     "output_type": "stream",
     "text": [
      "good_id\n",
      "253156246      6\n",
      "253156245      6\n",
      "253156247      6\n",
      "390733907      4\n",
      "36117835515    3\n",
      "              ..\n",
      "952071957      1\n",
      "952071964      1\n",
      "952073015      1\n",
      "952073078      1\n",
      "85709463529    1\n",
      "Length: 609954, dtype: int64\n"
     ]
    }
   ],
   "source": [
    "print(df.value_counts('good_id'))"
   ]
  },
  {
   "cell_type": "code",
   "execution_count": 16,
   "metadata": {},
   "outputs": [
    {
     "name": "stdout",
     "output_type": "stream",
     "text": [
      "pum_id\n",
      "C014010    45550\n",
      "C012010    28926\n",
      "I053050    28309\n",
      "C013060    27250\n",
      "C013020    24154\n",
      "           ...  \n",
      "F012060      460\n",
      "A019110      359\n",
      "A019120      358\n",
      "F012050      100\n",
      "L012050        4\n",
      "Length: 132, dtype: int64\n"
     ]
    }
   ],
   "source": [
    "print(df.value_counts('pum_id'))"
   ]
  },
  {
   "cell_type": "code",
   "execution_count": 22,
   "metadata": {},
   "outputs": [
    {
     "name": "stdout",
     "output_type": "stream",
     "text": [
      "pum_name\n",
      "아동복      45550\n",
      "여자외의     28926\n",
      "필기구      28309\n",
      "등산복      27250\n",
      "티셔츠      24154\n",
      "         ...  \n",
      "보청기        460\n",
      "드레싱        359\n",
      "혼합조미료      358\n",
      "의료측정기      100\n",
      "비누           4\n",
      "Length: 132, dtype: int64\n"
     ]
    }
   ],
   "source": [
    "print(df.value_counts('pum_name'))"
   ]
  },
  {
   "cell_type": "code",
   "execution_count": 18,
   "metadata": {},
   "outputs": [
    {
     "name": "stdout",
     "output_type": "stream",
     "text": [
      "good_name\n",
      "BIC 라운드 스틱 볼펜 1.0 검정색 청색 적색                                                  68\n",
      "한민커밍 EVA 만능 실내화 튜닝화 슬리퍼 실내화 신발                                               67\n",
      "자연퐁 찌든때 걱정없는 솔잎 주방세제 500g- O                                                 56\n",
      "지도표재래식성경식탁김(4gx16봉)X8개(1박스)                                                  49\n",
      "LG 테크 세탁세제 가루세제 3kg                                                          46\n",
      "                                                                             ..\n",
      "근력 보조 등운동 보조 밴드 LED-487                                                       1\n",
      "근력 강화용 요가 밴드 그린그레이 75cm                                                       1\n",
      "근력 강화 공무원 실기 전용 완력기 악력기 악력운동 공무원시험 시험 경찰 손목 헬스 X ( 4매입 )                      1\n",
      "극진에멀젼 125ML(21년)                                                              1\n",
      "［새빛몰］번개표 20W 삼파장 직관형 형광등 FL20S.EX-D/18 FL20S.EX-L FL20SEX-D FL20EX-D /1박스     1\n",
      "Length: 553866, dtype: int64\n"
     ]
    }
   ],
   "source": [
    "print(df.value_counts('good_name'))"
   ]
  },
  {
   "cell_type": "code",
   "execution_count": 19,
   "metadata": {},
   "outputs": [
    {
     "name": "stdout",
     "output_type": "stream",
     "text": [
      "sales_price\n",
      "19900      6829\n",
      "9900       5399\n",
      "14900      4197\n",
      "29900      3666\n",
      "12900      3091\n",
      "           ... \n",
      "193210        1\n",
      "193290        1\n",
      "193310        1\n",
      "193320        1\n",
      "9980000       1\n",
      "Length: 32473, dtype: int64\n"
     ]
    }
   ],
   "source": [
    "print(df.value_counts('sales_price'))"
   ]
  },
  {
   "cell_type": "code",
   "execution_count": 20,
   "metadata": {},
   "outputs": [
    {
     "name": "stdout",
     "output_type": "stream",
     "text": [
      "discount_price\n",
      "19900      4266\n",
      "9900       3972\n",
      "14900      2678\n",
      "12900      2434\n",
      "7900       2094\n",
      "           ... \n",
      "169071        1\n",
      "169070        1\n",
      "169028        1\n",
      "169020        1\n",
      "9980000       1\n",
      "Length: 52169, dtype: int64\n"
     ]
    }
   ],
   "source": [
    "print(df.value_counts('discount_price'))"
   ]
  },
  {
   "cell_type": "code",
   "execution_count": 21,
   "metadata": {},
   "outputs": [
    {
     "name": "stdout",
     "output_type": "stream",
     "text": [
      "benefit\n",
      " 0          426493\n",
      "-894           785\n",
      "-500           675\n",
      "-10            666\n",
      "-594           630\n",
      "             ...  \n",
      "-9035            1\n",
      "-64100           1\n",
      "-64090           1\n",
      "-9058            1\n",
      "-2170378         1\n",
      "Length: 13958, dtype: int64\n"
     ]
    }
   ],
   "source": [
    "print(df.value_counts('benefit'))"
   ]
  },
  {
   "cell_type": "code",
   "execution_count": 61,
   "metadata": {},
   "outputs": [
    {
     "data": {
      "text/html": [
       "<div>\n",
       "<style scoped>\n",
       "    .dataframe tbody tr th:only-of-type {\n",
       "        vertical-align: middle;\n",
       "    }\n",
       "\n",
       "    .dataframe tbody tr th {\n",
       "        vertical-align: top;\n",
       "    }\n",
       "\n",
       "    .dataframe thead th {\n",
       "        text-align: right;\n",
       "    }\n",
       "</style>\n",
       "<table border=\"1\" class=\"dataframe\">\n",
       "  <thead>\n",
       "    <tr style=\"text-align: right;\">\n",
       "      <th></th>\n",
       "      <th>pum_name</th>\n",
       "      <th>sales_price</th>\n",
       "      <th>benefit</th>\n",
       "    </tr>\n",
       "  </thead>\n",
       "  <tbody>\n",
       "    <tr>\n",
       "      <th>0</th>\n",
       "      <td>여자상의</td>\n",
       "      <td>628300</td>\n",
       "      <td>-13170</td>\n",
       "    </tr>\n",
       "    <tr>\n",
       "      <th>1</th>\n",
       "      <td>여자상의</td>\n",
       "      <td>49900</td>\n",
       "      <td>0</td>\n",
       "    </tr>\n",
       "    <tr>\n",
       "      <th>2</th>\n",
       "      <td>여자상의</td>\n",
       "      <td>59700</td>\n",
       "      <td>0</td>\n",
       "    </tr>\n",
       "    <tr>\n",
       "      <th>3</th>\n",
       "      <td>여자상의</td>\n",
       "      <td>39000</td>\n",
       "      <td>-5850</td>\n",
       "    </tr>\n",
       "    <tr>\n",
       "      <th>4</th>\n",
       "      <td>여자상의</td>\n",
       "      <td>34930</td>\n",
       "      <td>0</td>\n",
       "    </tr>\n",
       "    <tr>\n",
       "      <th>...</th>\n",
       "      <td>...</td>\n",
       "      <td>...</td>\n",
       "      <td>...</td>\n",
       "    </tr>\n",
       "    <tr>\n",
       "      <th>628904</th>\n",
       "      <td>여자하의</td>\n",
       "      <td>50170</td>\n",
       "      <td>0</td>\n",
       "    </tr>\n",
       "    <tr>\n",
       "      <th>628905</th>\n",
       "      <td>티셔츠</td>\n",
       "      <td>38000</td>\n",
       "      <td>0</td>\n",
       "    </tr>\n",
       "    <tr>\n",
       "      <th>628906</th>\n",
       "      <td>티셔츠</td>\n",
       "      <td>51840</td>\n",
       "      <td>0</td>\n",
       "    </tr>\n",
       "    <tr>\n",
       "      <th>628907</th>\n",
       "      <td>유아복</td>\n",
       "      <td>43500</td>\n",
       "      <td>0</td>\n",
       "    </tr>\n",
       "    <tr>\n",
       "      <th>628908</th>\n",
       "      <td>유아복</td>\n",
       "      <td>28690</td>\n",
       "      <td>0</td>\n",
       "    </tr>\n",
       "  </tbody>\n",
       "</table>\n",
       "<p>628909 rows × 3 columns</p>\n",
       "</div>"
      ],
      "text/plain": [
       "       pum_name  sales_price  benefit\n",
       "0          여자상의       628300   -13170\n",
       "1          여자상의        49900        0\n",
       "2          여자상의        59700        0\n",
       "3          여자상의        39000    -5850\n",
       "4          여자상의        34930        0\n",
       "...         ...          ...      ...\n",
       "628904     여자하의        50170        0\n",
       "628905      티셔츠        38000        0\n",
       "628906      티셔츠        51840        0\n",
       "628907      유아복        43500        0\n",
       "628908      유아복        28690        0\n",
       "\n",
       "[628909 rows x 3 columns]"
      ]
     },
     "execution_count": 61,
     "metadata": {},
     "output_type": "execute_result"
    }
   ],
   "source": [
    "### collect_day, good_id, pum_id, good_name, discount_price 컬럼 삭제\n",
    "df = df.drop(columns=['collect_day', 'good_id', 'pum_id', 'good_name', 'discount_price'])\n",
    "df"
   ]
  },
  {
   "cell_type": "code",
   "execution_count": 62,
   "metadata": {},
   "outputs": [
    {
     "data": {
      "text/plain": [
       "True     582162\n",
       "False     46747\n",
       "Name: sales_price, dtype: int64"
      ]
     },
     "execution_count": 62,
     "metadata": {},
     "output_type": "execute_result"
    }
   ],
   "source": [
    "# 데이터 전처리 -> sales_price 컬럼의 가격대 확인\n",
    "pr_df = df['sales_price'] < 150000\n",
    "pr_df.value_counts()"
   ]
  },
  {
   "cell_type": "code",
   "execution_count": 63,
   "metadata": {},
   "outputs": [
    {
     "data": {
      "text/html": [
       "<div>\n",
       "<style scoped>\n",
       "    .dataframe tbody tr th:only-of-type {\n",
       "        vertical-align: middle;\n",
       "    }\n",
       "\n",
       "    .dataframe tbody tr th {\n",
       "        vertical-align: top;\n",
       "    }\n",
       "\n",
       "    .dataframe thead th {\n",
       "        text-align: right;\n",
       "    }\n",
       "</style>\n",
       "<table border=\"1\" class=\"dataframe\">\n",
       "  <thead>\n",
       "    <tr style=\"text-align: right;\">\n",
       "      <th></th>\n",
       "      <th>pum_name</th>\n",
       "      <th>sales_price</th>\n",
       "      <th>benefit</th>\n",
       "    </tr>\n",
       "  </thead>\n",
       "  <tbody>\n",
       "    <tr>\n",
       "      <th>1</th>\n",
       "      <td>여자상의</td>\n",
       "      <td>49900</td>\n",
       "      <td>0</td>\n",
       "    </tr>\n",
       "    <tr>\n",
       "      <th>2</th>\n",
       "      <td>여자상의</td>\n",
       "      <td>59700</td>\n",
       "      <td>0</td>\n",
       "    </tr>\n",
       "    <tr>\n",
       "      <th>3</th>\n",
       "      <td>여자상의</td>\n",
       "      <td>39000</td>\n",
       "      <td>-5850</td>\n",
       "    </tr>\n",
       "    <tr>\n",
       "      <th>4</th>\n",
       "      <td>여자상의</td>\n",
       "      <td>34930</td>\n",
       "      <td>0</td>\n",
       "    </tr>\n",
       "    <tr>\n",
       "      <th>5</th>\n",
       "      <td>여자상의</td>\n",
       "      <td>36400</td>\n",
       "      <td>-1820</td>\n",
       "    </tr>\n",
       "    <tr>\n",
       "      <th>...</th>\n",
       "      <td>...</td>\n",
       "      <td>...</td>\n",
       "      <td>...</td>\n",
       "    </tr>\n",
       "    <tr>\n",
       "      <th>628904</th>\n",
       "      <td>여자하의</td>\n",
       "      <td>50170</td>\n",
       "      <td>0</td>\n",
       "    </tr>\n",
       "    <tr>\n",
       "      <th>628905</th>\n",
       "      <td>티셔츠</td>\n",
       "      <td>38000</td>\n",
       "      <td>0</td>\n",
       "    </tr>\n",
       "    <tr>\n",
       "      <th>628906</th>\n",
       "      <td>티셔츠</td>\n",
       "      <td>51840</td>\n",
       "      <td>0</td>\n",
       "    </tr>\n",
       "    <tr>\n",
       "      <th>628907</th>\n",
       "      <td>유아복</td>\n",
       "      <td>43500</td>\n",
       "      <td>0</td>\n",
       "    </tr>\n",
       "    <tr>\n",
       "      <th>628908</th>\n",
       "      <td>유아복</td>\n",
       "      <td>28690</td>\n",
       "      <td>0</td>\n",
       "    </tr>\n",
       "  </tbody>\n",
       "</table>\n",
       "<p>582162 rows × 3 columns</p>\n",
       "</div>"
      ],
      "text/plain": [
       "       pum_name  sales_price  benefit\n",
       "1          여자상의        49900        0\n",
       "2          여자상의        59700        0\n",
       "3          여자상의        39000    -5850\n",
       "4          여자상의        34930        0\n",
       "5          여자상의        36400    -1820\n",
       "...         ...          ...      ...\n",
       "628904     여자하의        50170        0\n",
       "628905      티셔츠        38000        0\n",
       "628906      티셔츠        51840        0\n",
       "628907      유아복        43500        0\n",
       "628908      유아복        28690        0\n",
       "\n",
       "[582162 rows x 3 columns]"
      ]
     },
     "execution_count": 63,
     "metadata": {},
     "output_type": "execute_result"
    }
   ],
   "source": [
    "# 15만원 이상대 물건들 삭제\n",
    "df = df.loc[pr_df, :]\n",
    "df"
   ]
  },
  {
   "cell_type": "code",
   "execution_count": 64,
   "metadata": {},
   "outputs": [
    {
     "name": "stderr",
     "output_type": "stream",
     "text": [
      "C:\\Users\\Public\\Documents\\ESTsoft\\CreatorTemp\\ipykernel_26608\\3600946148.py:5: SettingWithCopyWarning: \n",
      "A value is trying to be set on a copy of a slice from a DataFrame.\n",
      "Try using .loc[row_indexer,col_indexer] = value instead\n",
      "\n",
      "See the caveats in the documentation: https://pandas.pydata.org/pandas-docs/stable/user_guide/indexing.html#returning-a-view-versus-a-copy\n",
      "  df.sales_price = pd.cut(x=x, bins=bins, labels=labels)\n"
     ]
    },
    {
     "data": {
      "text/html": [
       "<div>\n",
       "<style scoped>\n",
       "    .dataframe tbody tr th:only-of-type {\n",
       "        vertical-align: middle;\n",
       "    }\n",
       "\n",
       "    .dataframe tbody tr th {\n",
       "        vertical-align: top;\n",
       "    }\n",
       "\n",
       "    .dataframe thead th {\n",
       "        text-align: right;\n",
       "    }\n",
       "</style>\n",
       "<table border=\"1\" class=\"dataframe\">\n",
       "  <thead>\n",
       "    <tr style=\"text-align: right;\">\n",
       "      <th></th>\n",
       "      <th>pum_name</th>\n",
       "      <th>sales_price</th>\n",
       "      <th>benefit</th>\n",
       "    </tr>\n",
       "  </thead>\n",
       "  <tbody>\n",
       "    <tr>\n",
       "      <th>1</th>\n",
       "      <td>여자상의</td>\n",
       "      <td>50000</td>\n",
       "      <td>0</td>\n",
       "    </tr>\n",
       "    <tr>\n",
       "      <th>2</th>\n",
       "      <td>여자상의</td>\n",
       "      <td>60000</td>\n",
       "      <td>0</td>\n",
       "    </tr>\n",
       "    <tr>\n",
       "      <th>3</th>\n",
       "      <td>여자상의</td>\n",
       "      <td>40000</td>\n",
       "      <td>-5850</td>\n",
       "    </tr>\n",
       "    <tr>\n",
       "      <th>4</th>\n",
       "      <td>여자상의</td>\n",
       "      <td>30000</td>\n",
       "      <td>0</td>\n",
       "    </tr>\n",
       "    <tr>\n",
       "      <th>5</th>\n",
       "      <td>여자상의</td>\n",
       "      <td>30000</td>\n",
       "      <td>-1820</td>\n",
       "    </tr>\n",
       "    <tr>\n",
       "      <th>...</th>\n",
       "      <td>...</td>\n",
       "      <td>...</td>\n",
       "      <td>...</td>\n",
       "    </tr>\n",
       "    <tr>\n",
       "      <th>628904</th>\n",
       "      <td>여자하의</td>\n",
       "      <td>50000</td>\n",
       "      <td>0</td>\n",
       "    </tr>\n",
       "    <tr>\n",
       "      <th>628905</th>\n",
       "      <td>티셔츠</td>\n",
       "      <td>40000</td>\n",
       "      <td>0</td>\n",
       "    </tr>\n",
       "    <tr>\n",
       "      <th>628906</th>\n",
       "      <td>티셔츠</td>\n",
       "      <td>50000</td>\n",
       "      <td>0</td>\n",
       "    </tr>\n",
       "    <tr>\n",
       "      <th>628907</th>\n",
       "      <td>유아복</td>\n",
       "      <td>40000</td>\n",
       "      <td>0</td>\n",
       "    </tr>\n",
       "    <tr>\n",
       "      <th>628908</th>\n",
       "      <td>유아복</td>\n",
       "      <td>30000</td>\n",
       "      <td>0</td>\n",
       "    </tr>\n",
       "  </tbody>\n",
       "</table>\n",
       "<p>582162 rows × 3 columns</p>\n",
       "</div>"
      ],
      "text/plain": [
       "       pum_name sales_price  benefit\n",
       "1          여자상의       50000        0\n",
       "2          여자상의       60000        0\n",
       "3          여자상의       40000    -5850\n",
       "4          여자상의       30000        0\n",
       "5          여자상의       30000    -1820\n",
       "...         ...         ...      ...\n",
       "628904     여자하의       50000        0\n",
       "628905      티셔츠       40000        0\n",
       "628906      티셔츠       50000        0\n",
       "628907      유아복       40000        0\n",
       "628908      유아복       30000        0\n",
       "\n",
       "[582162 rows x 3 columns]"
      ]
     },
     "execution_count": 64,
     "metadata": {},
     "output_type": "execute_result"
    }
   ],
   "source": [
    "# 범주화하기\n",
    "x = df.sales_price\n",
    "bins = 16\n",
    "labels = [0, 10000, 20000 ,30000, 40000, 50000, 60000, 70000, 80000,90000,100000,110000,120000,130000,140000,150000]\n",
    "df.sales_price = pd.cut(x=x, bins=bins, labels=labels)\n",
    "\n",
    "# 결과 확인하기\n",
    "df"
   ]
  },
  {
   "cell_type": "code",
   "execution_count": 65,
   "metadata": {},
   "outputs": [
    {
     "data": {
      "text/plain": [
       "0    398853\n",
       "1    183309\n",
       "Name: benefit, dtype: int64"
      ]
     },
     "execution_count": 65,
     "metadata": {},
     "output_type": "execute_result"
    }
   ],
   "source": [
    "### 할인햇으면 1, 안했으면 0 으로 변경하기\n",
    "df.loc[(df['benefit']<0), 'benefit'] = 1\n",
    "df.benefit.value_counts()"
   ]
  },
  {
   "cell_type": "code",
   "execution_count": 82,
   "metadata": {},
   "outputs": [
    {
     "data": {
      "text/plain": [
       "아동복       45118\n",
       "필기구       27239\n",
       "등산복       24390\n",
       "티셔츠       23484\n",
       "색조화장품     21498\n",
       "아동화       21036\n",
       "여자외의      20185\n",
       "기초화장품     18771\n",
       "남자상의      17332\n",
       "유아복       15888\n",
       "헬스기구      15580\n",
       "전구        15204\n",
       "회화용구      14766\n",
       "여자상의      14132\n",
       "컴퓨터소모품    12161\n",
       "점퍼        11075\n",
       "Name: pum_name, dtype: int64"
      ]
     },
     "execution_count": 82,
     "metadata": {},
     "output_type": "execute_result"
    }
   ],
   "source": [
    "# pum_name 컬럼 간소화\n",
    "df.pum_name.value_counts().loc[lambda x : x>10000]"
   ]
  },
  {
   "cell_type": "code",
   "execution_count": 86,
   "metadata": {},
   "outputs": [],
   "source": [
    "# 나머지 값들 '나머지' 로 정리\n",
    "df.loc[~((df['pum_name']=='아동복')|\n",
    "(df['pum_name']=='필기구')|\n",
    "(df['pum_name']=='등산복')|\n",
    "(df['pum_name']=='티셔츠')|\n",
    "(df['pum_name']=='색조화장품')|\n",
    "(df['pum_name']=='아동화')|\n",
    "(df['pum_name']=='여자외의')|\n",
    "(df['pum_name']=='기초화장품')|\n",
    "(df['pum_name']=='남자상의')|\n",
    "(df['pum_name']=='유아복')|\n",
    "(df['pum_name']=='헬스기구')|\n",
    "(df['pum_name']=='전구')|\n",
    "(df['pum_name']=='회화용구')|\n",
    "(df['pum_name']=='여자상의')|\n",
    "(df['pum_name']=='컴퓨터소모품')|\n",
    "(df['pum_name']=='점퍼')), 'pum_name'] = '나머지'"
   ]
  },
  {
   "cell_type": "code",
   "execution_count": 91,
   "metadata": {},
   "outputs": [
    {
     "data": {
      "text/plain": [
       "나머지       264303\n",
       "아동복        45118\n",
       "필기구        27239\n",
       "등산복        24390\n",
       "티셔츠        23484\n",
       "색조화장품      21498\n",
       "아동화        21036\n",
       "여자외의       20185\n",
       "기초화장품      18771\n",
       "남자상의       17332\n",
       "유아복        15888\n",
       "헬스기구       15580\n",
       "전구         15204\n",
       "회화용구       14766\n",
       "여자상의       14132\n",
       "컴퓨터소모품     12161\n",
       "점퍼         11075\n",
       "Name: pum_name, dtype: int64"
      ]
     },
     "execution_count": 91,
     "metadata": {},
     "output_type": "execute_result"
    }
   ],
   "source": [
    "df.pum_name.value_counts()"
   ]
  },
  {
   "cell_type": "code",
   "execution_count": 90,
   "metadata": {},
   "outputs": [
    {
     "data": {
      "text/plain": [
       "True     317859\n",
       "False    264303\n",
       "Name: pum_name, dtype: int64"
      ]
     },
     "execution_count": 90,
     "metadata": {},
     "output_type": "execute_result"
    }
   ],
   "source": [
    "# 결과 확인하기\n",
    "name_df = df['pum_name'] != '나머지'\n",
    "name_df.value_counts()"
   ]
  },
  {
   "cell_type": "code",
   "execution_count": 100,
   "metadata": {},
   "outputs": [],
   "source": [
    "# 나머지 값 삭제\n",
    "df = df.loc[name_df, :]"
   ]
  },
  {
   "cell_type": "code",
   "execution_count": 101,
   "metadata": {},
   "outputs": [
    {
     "data": {
      "text/html": [
       "<div>\n",
       "<style scoped>\n",
       "    .dataframe tbody tr th:only-of-type {\n",
       "        vertical-align: middle;\n",
       "    }\n",
       "\n",
       "    .dataframe tbody tr th {\n",
       "        vertical-align: top;\n",
       "    }\n",
       "\n",
       "    .dataframe thead th {\n",
       "        text-align: right;\n",
       "    }\n",
       "</style>\n",
       "<table border=\"1\" class=\"dataframe\">\n",
       "  <thead>\n",
       "    <tr style=\"text-align: right;\">\n",
       "      <th></th>\n",
       "      <th>pum_name</th>\n",
       "      <th>sales_price</th>\n",
       "      <th>benefit</th>\n",
       "    </tr>\n",
       "  </thead>\n",
       "  <tbody>\n",
       "    <tr>\n",
       "      <th>1</th>\n",
       "      <td>여자상의</td>\n",
       "      <td>50000</td>\n",
       "      <td>0</td>\n",
       "    </tr>\n",
       "    <tr>\n",
       "      <th>2</th>\n",
       "      <td>여자상의</td>\n",
       "      <td>60000</td>\n",
       "      <td>0</td>\n",
       "    </tr>\n",
       "    <tr>\n",
       "      <th>3</th>\n",
       "      <td>여자상의</td>\n",
       "      <td>40000</td>\n",
       "      <td>1</td>\n",
       "    </tr>\n",
       "    <tr>\n",
       "      <th>4</th>\n",
       "      <td>여자상의</td>\n",
       "      <td>30000</td>\n",
       "      <td>0</td>\n",
       "    </tr>\n",
       "    <tr>\n",
       "      <th>5</th>\n",
       "      <td>여자상의</td>\n",
       "      <td>30000</td>\n",
       "      <td>1</td>\n",
       "    </tr>\n",
       "    <tr>\n",
       "      <th>...</th>\n",
       "      <td>...</td>\n",
       "      <td>...</td>\n",
       "      <td>...</td>\n",
       "    </tr>\n",
       "    <tr>\n",
       "      <th>628899</th>\n",
       "      <td>여자외의</td>\n",
       "      <td>50000</td>\n",
       "      <td>0</td>\n",
       "    </tr>\n",
       "    <tr>\n",
       "      <th>628905</th>\n",
       "      <td>티셔츠</td>\n",
       "      <td>40000</td>\n",
       "      <td>0</td>\n",
       "    </tr>\n",
       "    <tr>\n",
       "      <th>628906</th>\n",
       "      <td>티셔츠</td>\n",
       "      <td>50000</td>\n",
       "      <td>0</td>\n",
       "    </tr>\n",
       "    <tr>\n",
       "      <th>628907</th>\n",
       "      <td>유아복</td>\n",
       "      <td>40000</td>\n",
       "      <td>0</td>\n",
       "    </tr>\n",
       "    <tr>\n",
       "      <th>628908</th>\n",
       "      <td>유아복</td>\n",
       "      <td>30000</td>\n",
       "      <td>0</td>\n",
       "    </tr>\n",
       "  </tbody>\n",
       "</table>\n",
       "<p>317859 rows × 3 columns</p>\n",
       "</div>"
      ],
      "text/plain": [
       "       pum_name sales_price  benefit\n",
       "1          여자상의       50000        0\n",
       "2          여자상의       60000        0\n",
       "3          여자상의       40000        1\n",
       "4          여자상의       30000        0\n",
       "5          여자상의       30000        1\n",
       "...         ...         ...      ...\n",
       "628899     여자외의       50000        0\n",
       "628905      티셔츠       40000        0\n",
       "628906      티셔츠       50000        0\n",
       "628907      유아복       40000        0\n",
       "628908      유아복       30000        0\n",
       "\n",
       "[317859 rows x 3 columns]"
      ]
     },
     "execution_count": 101,
     "metadata": {},
     "output_type": "execute_result"
    }
   ],
   "source": [
    "df"
   ]
  },
  {
   "cell_type": "code",
   "execution_count": 95,
   "metadata": {},
   "outputs": [],
   "source": [
    "# 글자 깨짐 방지\n",
    "plt.rcParams['font.family'] = 'NanumGothic'"
   ]
  },
  {
   "cell_type": "code",
   "execution_count": 104,
   "metadata": {},
   "outputs": [
    {
     "data": {
      "text/plain": [
       "<AxesSubplot:xlabel='benefit', ylabel='count'>"
      ]
     },
     "execution_count": 104,
     "metadata": {},
     "output_type": "execute_result"
    },
    {
     "data": {
      "image/png": "[encoded data removed]",
      "text/plain": [
       "<Figure size 640x480 with 1 Axes>"
      ]
     },
     "metadata": {},
     "output_type": "display_data"
    }
   ],
   "source": [
    "### 결과 분석하기\n",
    "\n",
    "# 할인 여부와 판매 물품간의 관계 분석\n",
    "sns.countplot(data=df, x='benefit', hue='pum_name')"
   ]
  },
  {
   "cell_type": "code",
   "execution_count": 103,
   "metadata": {},
   "outputs": [
    {
     "data": {
      "text/plain": [
       "<AxesSubplot:xlabel='benefit', ylabel='count'>"
      ]
     },
     "execution_count": 103,
     "metadata": {},
     "output_type": "execute_result"
    },
    {
     "data": {
      "image/png": "[encoded data removed]",
      "text/plain": [
       "<Figure size 640x480 with 1 Axes>"
      ]
     },
     "metadata": {},
     "output_type": "display_data"
    }
   ],
   "source": [
    "# 할인 여부와 가격대간의 관계 분석\n",
    "sns.countplot(data=df, x='benefit', hue='sales_price')"
   ]
  }
 ],
 "metadata": {
  "kernelspec": {
   "display_name": "base",
   "language": "python",
   "name": "python3"
  },
  "language_info": {
   "codemirror_mode": {
    "name": "ipython",
    "version": 3
   },
   "file_extension": ".py",
   "mimetype": "text/x-python",
   "name": "python",
   "nbconvert_exporter": "python",
   "pygments_lexer": "ipython3",
   "version": "3.9.13"
  },
  "orig_nbformat": 4
 },
 "nbformat": 4,
 "nbformat_minor": 2
}
